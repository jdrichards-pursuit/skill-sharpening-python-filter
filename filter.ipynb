{
 "cells": [
  {
   "cell_type": "markdown",
   "metadata": {},
   "source": [
    "Write a function positive_filter that takes a list of integers and returns a list of only the positive numbers using filter and lambda."
   ]
  },
  {
   "cell_type": "code",
   "execution_count": null,
   "metadata": {},
   "outputs": [],
   "source": [
    "# Uncomment to test\n",
    "# print(positive_filter([1, -2, 3, -4, 5, -6]))\n",
    "# print(positive_filter([-1, -2, -3, -4, -5]))\n",
    "# print(positive_filter([0, 1, 2, 3, 4, 5]))"
   ]
  },
  {
   "cell_type": "markdown",
   "metadata": {},
   "source": [
    "Write a palindrome_filter function that takes a list of words and returns a new list containing only the words that are palindromes (words that read the same forwards and backwards).\n",
    "\n",
    "Input: ['racecar', 'level', 'hello', 'noon']\n",
    "Output: ['racecar', 'level', 'noon']\n",
    "\n",
    "Input: ['hello', 'world', 'python', 'java']\n",
    "Output: []\n",
    "\n",
    "Input: ['a', 'b', 'c', 'd', 'e', 'f', 'g', 'h', 'i', 'j', 'k', 'l', 'm', 'n', 'o', 'p', 'q', 'r', 's', 't', 'u', 'v', 'w', 'x', 'y', 'z']\n",
    "Output: []"
   ]
  },
  {
   "cell_type": "code",
   "execution_count": null,
   "metadata": {},
   "outputs": [],
   "source": [
    "#Uncomment to test\n",
    "# print(palindrome_filter(['racecar', 'level', 'hello', 'noon']))\n",
    "# print(palindrome_filter(['hello', 'world', 'python', 'java']))\n",
    "# print(palindrome_filter(['a', 'b', 'c', 'd', 'e', 'f', 'g', 'h', 'i', 'j', 'k', 'l', 'm', 'n']))"
   ]
  },
  {
   "cell_type": "markdown",
   "metadata": {},
   "source": [
    "Write a vowel_filter function that takes a list of words and returns a list where each word is replaced by only its vowels. For example, \"apple\" becomes \"ae\".\n",
    "\n",
    "Input: ['apple', 'banana', 'cherry', 'date']\n",
    "Output: ['ae', 'a', 'e', 'a']\n",
    "\n",
    "Input: ['hello', 'world', 'python', 'java']\n",
    "Output: ['e', 'o', 'o', 'a']\n",
    "\n",
    "Input: ['a', 'b', 'c', 'd', 'e', 'f', 'g', 'h', 'i', 'j', 'k', 'l', 'm', 'n', 'o', 'p', 'q', 'r', 's', 't', 'u', 'v', 'w', 'x', 'y', 'z']\n",
    "Output: ['a', 'e', 'i', 'o', 'u']"
   ]
  },
  {
   "cell_type": "code",
   "execution_count": null,
   "metadata": {},
   "outputs": [],
   "source": [
    "#Uncomment to test\n",
    "# print(vowel_filter(['apple', 'banana', 'cherry', 'date']))\n",
    "# print(vowel_filter(['hello', 'world', 'python', 'java']))\n"
   ]
  },
  {
   "cell_type": "markdown",
   "metadata": {},
   "source": [
    "Write a function non_prime_filter    that takes a list of integers and filters out all non-prime numbers. A prime number is a number greater than 1 that has no divisors other than 1 and itself.\n",
    "\n",
    "Input: [1, 2, 3, 4, 5, 6, 7, 8, 9, 10]\n",
    "Output: [2, 3, 5, 7]\n",
    "\n",
    "Input: [11, 12, 13, 14, 15, 16, 17, 18, 19, 20]\n",
    "Output: [11, 13, 17, 19]\n",
    "\n",
    "Input: [21, 22, 23, 24, 25, 26, 27, 28, 29, 30]\n",
    "Output: [23, 29]"
   ]
  },
  {
   "cell_type": "code",
   "execution_count": null,
   "metadata": {},
   "outputs": [],
   "source": [
    "#Uncomment to test\n",
    "# print(non_prime_filter([1, 2, 3, 4, 5, 6, 7, 8, 9, 10]))\n",
    "# print(non_prime_filter([11, 12, 13, 14, 15, 16, 17, 18, 19, 20]))\n",
    "# print(non_prime_filter([21, 22, 23, 24, 25, 26, 27, 28, 29, 30]))"
   ]
  }
 ],
 "metadata": {
  "language_info": {
   "name": "python"
  }
 },
 "nbformat": 4,
 "nbformat_minor": 2
}
